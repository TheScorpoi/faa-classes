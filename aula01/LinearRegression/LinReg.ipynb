{
 "cells": [
  {
   "cell_type": "markdown",
   "metadata": {},
   "source": [
    "##  Lab: Multivariable Linear Regression\n",
    "Objectives: Implement linear regression with multiple variables (features) and get to see it works on data. \n"
   ]
  },
  {
   "cell_type": "code",
   "execution_count": 2,
   "metadata": {},
   "outputs": [],
   "source": [
    "import numpy as np\n",
    "import matplotlib.pyplot as plt\n",
    "import pandas as pd"
   ]
  },
  {
   "cell_type": "markdown",
   "metadata": {},
   "source": [
    "Now you will implement linear regression with multiple variables to predict the prices of houses. Suppose you are selling your house and you want to know what a good market price would be. One way to do this is to first collect information on recent houses sold and make a model of housing prices.\n",
    "\n",
    "The file **Multi_linear.txt** contains a training set of housing prices in Portland, Oregon. The first column is the size of the house (in square feet), the second column is the number of bedrooms, and the third column is the price of the house.  \n",
    "\n",
    "Load the data into the variable data (using function pd.read_csv from panda library). "
   ]
  },
  {
   "cell_type": "code",
   "execution_count": 11,
   "metadata": {},
   "outputs": [],
   "source": [
    "data= pd.read_csv('Multi_linear.txt')"
   ]
  },
  {
   "cell_type": "code",
   "execution_count": 4,
   "metadata": {},
   "outputs": [
    {
     "data": {
      "text/html": [
       "<div>\n",
       "<style scoped>\n",
       "    .dataframe tbody tr th:only-of-type {\n",
       "        vertical-align: middle;\n",
       "    }\n",
       "\n",
       "    .dataframe tbody tr th {\n",
       "        vertical-align: top;\n",
       "    }\n",
       "\n",
       "    .dataframe thead th {\n",
       "        text-align: right;\n",
       "    }\n",
       "</style>\n",
       "<table border=\"1\" class=\"dataframe\">\n",
       "  <thead>\n",
       "    <tr style=\"text-align: right;\">\n",
       "      <th></th>\n",
       "      <th>2104</th>\n",
       "      <th>3</th>\n",
       "      <th>399900</th>\n",
       "    </tr>\n",
       "  </thead>\n",
       "  <tbody>\n",
       "    <tr>\n",
       "      <th>0</th>\n",
       "      <td>1600</td>\n",
       "      <td>3</td>\n",
       "      <td>329900</td>\n",
       "    </tr>\n",
       "    <tr>\n",
       "      <th>1</th>\n",
       "      <td>2400</td>\n",
       "      <td>3</td>\n",
       "      <td>369000</td>\n",
       "    </tr>\n",
       "    <tr>\n",
       "      <th>2</th>\n",
       "      <td>1416</td>\n",
       "      <td>2</td>\n",
       "      <td>232000</td>\n",
       "    </tr>\n",
       "    <tr>\n",
       "      <th>3</th>\n",
       "      <td>3000</td>\n",
       "      <td>4</td>\n",
       "      <td>539900</td>\n",
       "    </tr>\n",
       "    <tr>\n",
       "      <th>4</th>\n",
       "      <td>1985</td>\n",
       "      <td>4</td>\n",
       "      <td>299900</td>\n",
       "    </tr>\n",
       "  </tbody>\n",
       "</table>\n",
       "</div>"
      ],
      "text/plain": [
       "   2104  3  399900\n",
       "0  1600  3  329900\n",
       "1  2400  3  369000\n",
       "2  1416  2  232000\n",
       "3  3000  4  539900\n",
       "4  1985  4  299900"
      ]
     },
     "execution_count": 4,
     "metadata": {},
     "output_type": "execute_result"
    }
   ],
   "source": [
    "#a few examples from the dataset \n",
    "data.head()"
   ]
  },
  {
   "cell_type": "code",
   "execution_count": 12,
   "metadata": {},
   "outputs": [
    {
     "data": {
      "text/html": [
       "<div>\n",
       "<style scoped>\n",
       "    .dataframe tbody tr th:only-of-type {\n",
       "        vertical-align: middle;\n",
       "    }\n",
       "\n",
       "    .dataframe tbody tr th {\n",
       "        vertical-align: top;\n",
       "    }\n",
       "\n",
       "    .dataframe thead th {\n",
       "        text-align: right;\n",
       "    }\n",
       "</style>\n",
       "<table border=\"1\" class=\"dataframe\">\n",
       "  <thead>\n",
       "    <tr style=\"text-align: right;\">\n",
       "      <th></th>\n",
       "      <th>2104</th>\n",
       "      <th>3</th>\n",
       "      <th>399900</th>\n",
       "    </tr>\n",
       "  </thead>\n",
       "  <tbody>\n",
       "    <tr>\n",
       "      <th>count</th>\n",
       "      <td>46.000000</td>\n",
       "      <td>46.000000</td>\n",
       "      <td>46.000000</td>\n",
       "    </tr>\n",
       "    <tr>\n",
       "      <th>mean</th>\n",
       "      <td>1998.434783</td>\n",
       "      <td>3.173913</td>\n",
       "      <td>339119.456522</td>\n",
       "    </tr>\n",
       "    <tr>\n",
       "      <th>std</th>\n",
       "      <td>803.333019</td>\n",
       "      <td>0.768963</td>\n",
       "      <td>126103.418369</td>\n",
       "    </tr>\n",
       "    <tr>\n",
       "      <th>min</th>\n",
       "      <td>852.000000</td>\n",
       "      <td>1.000000</td>\n",
       "      <td>169900.000000</td>\n",
       "    </tr>\n",
       "    <tr>\n",
       "      <th>25%</th>\n",
       "      <td>1429.500000</td>\n",
       "      <td>3.000000</td>\n",
       "      <td>249900.000000</td>\n",
       "    </tr>\n",
       "    <tr>\n",
       "      <th>50%</th>\n",
       "      <td>1870.000000</td>\n",
       "      <td>3.000000</td>\n",
       "      <td>299900.000000</td>\n",
       "    </tr>\n",
       "    <tr>\n",
       "      <th>75%</th>\n",
       "      <td>2284.500000</td>\n",
       "      <td>4.000000</td>\n",
       "      <td>368875.000000</td>\n",
       "    </tr>\n",
       "    <tr>\n",
       "      <th>max</th>\n",
       "      <td>4478.000000</td>\n",
       "      <td>5.000000</td>\n",
       "      <td>699900.000000</td>\n",
       "    </tr>\n",
       "  </tbody>\n",
       "</table>\n",
       "</div>"
      ],
      "text/plain": [
       "              2104          3         399900\n",
       "count    46.000000  46.000000      46.000000\n",
       "mean   1998.434783   3.173913  339119.456522\n",
       "std     803.333019   0.768963  126103.418369\n",
       "min     852.000000   1.000000  169900.000000\n",
       "25%    1429.500000   3.000000  249900.000000\n",
       "50%    1870.000000   3.000000  299900.000000\n",
       "75%    2284.500000   4.000000  368875.000000\n",
       "max    4478.000000   5.000000  699900.000000"
      ]
     },
     "execution_count": 12,
     "metadata": {},
     "output_type": "execute_result"
    }
   ],
   "source": [
    "#Some statistics\n",
    "data.describe()"
   ]
  },
  {
   "cell_type": "markdown",
   "metadata": {},
   "source": [
    "### Plot the data\n",
    "\n",
    "Create scatter plots of data similar to Fig.1 (using plt.scatter)\n",
    "\n",
    "<img src=\"images/f5.png\" style=\"width:650px;height:250px;\">\n",
    "<caption><center> Fig.1: Data visualtization </center></caption>"
   ]
  },
  {
   "cell_type": "code",
   "execution_count": 23,
   "metadata": {},
   "outputs": [
    {
     "data": {
      "text/plain": [
       "<matplotlib.collections.PathCollection at 0x175fe2be0>"
      ]
     },
     "execution_count": 23,
     "metadata": {},
     "output_type": "execute_result"
    },
    {
     "data": {
      "image/png": "[encoded data removed]",
      "text/plain": [
       "<Figure size 864x288 with 2 Axes>"
      ]
     },
     "metadata": {
      "needs_background": "light"
     },
     "output_type": "display_data"
    }
   ],
   "source": [
    "plt.figure(figsize=(12,4))\n",
    "plt.subplot(1, 2, 1)\n",
    "plt.scatter(data.iloc[:,0], data.iloc[:,2], marker='x', color='blue')\n",
    "\n",
    "\n",
    "plt.subplot(1, 2, 2)\n",
    "plt.scatter(data.iloc[:,1], data.iloc[:,0], color='red')"
   ]
  },
  {
   "cell_type": "markdown",
   "metadata": {},
   "source": [
    "### Feature Normalization\n",
    "\n",
    "Note that house sizes are much larger values (about 1000 times) than the number of bedrooms. When features differ by orders of magnitude, first performing feature scaling can make gradient descent converge much more quickly. \n",
    "To make sure features are on a similar scale apply Mean normalization.\n",
    "\n",
    "$x_i = \\frac{x_i - \\mu_i}{\\sigma_i}$\n",
    "\n",
    "Your task is to complete the code in function **featureNormalization(X)**:\n",
    "\n",
    "• Compute the mean value  $\\mu_i$ of each feature (use np.mean(X,axis=0)) \n",
    "\n",
    "• compute the standard deviation $\\sigma_i$ of each feature (use np.std(X,axis=0)) \n",
    "\n",
    "• Apply the equation above.\n",
    "\n",
    "**REMARK !!!:** When normalizing the features, it is important to store the mean value and the standard deviation used for normalization. After optimizing the parameters of the model, you want to predict the price of a new example not seen before.\n",
    "You must first normalize the features of that new example using the mean and standard deviation previously computed from the training set.\n",
    "\n",
    "**Remark:** Mean normalization is an alternative to normalizing by making the absolute values < 1 (i.e. dividing by MaxValue-MinValue)."
   ]
  },
  {
   "cell_type": "code",
   "execution_count": 24,
   "metadata": {},
   "outputs": [],
   "source": [
    "def featureNormalization(X):\n",
    "    \"\"\"\n",
    "    Take in numpy array of X values and return normalize X values,\n",
    "    the mean and standard deviation of each feature\n",
    "    \"\"\"\n",
    "    mean=np.mean(X,axis=0)\n",
    "    std=np.std(X,axis=0)\n",
    "    \n",
    "    X_norm = (X - mean)/std\n",
    "    \n",
    "    return X_norm , mean , std"
   ]
  },
  {
   "cell_type": "markdown",
   "metadata": {},
   "source": [
    "### Compute the Cost Function $J(\\theta)$\n",
    "\n",
    "The objective of Linear Regression is to minimize the cost function: $J(\\theta) = \\frac{1}{2m} \\sum_{i=1}^m (h_\\theta(x^{(i)}) - y^{(i)} )^2$\n",
    "\n",
    "where *h* is the linear model: $h_\\theta(x)=\\theta^Tx=\\theta_0+\\theta_1x_1+....+\\theta_nx_n$ \n",
    "\n",
    "Complete function **computeCost(X,y,theta)**.  Remember that the variables X and y are not scalar values, X is an array (matrix) with dimension (*mx3*), y is an array (vector) with dimension (*mx1*), *m* rows represent the examples from the training set.\n",
    "\n",
    "Suggestion: Use the vectorized dot product with *np.dot()* to generate *h*. \n",
    "Use *np.sum()* to compute the sum of errors over all given examples. "
   ]
  },
  {
   "cell_type": "code",
   "execution_count": 28,
   "metadata": {},
   "outputs": [],
   "source": [
    "def computeCost(X,y,theta):\n",
    "    \"\"\"\n",
    "   Take the numpy arrays X, y, theta and return the cost function J for this theta. \n",
    "\n",
    "    \"\"\"\n",
    "    #number of training examples\n",
    "    m = 100\n",
    "    \n",
    "    #linear regression model\n",
    "    h = np.sum(np.dot(X,theta), axis=1)\n",
    "    \n",
    "    #cost function\n",
    "    J = (1/(2*m))*np.sum(np.square(h-y))\n",
    "\n",
    "    \n",
    "    return J"
   ]
  },
  {
   "cell_type": "markdown",
   "metadata": {},
   "source": [
    "Now you will provide values for the arguments of **computeCost(X,y,theta)**. \n",
    "First, extract X and y from data. \n",
    "\n",
    "**Check if y is rank 1 arrays (m,)**  and if yes, you need to reshape them to be 2-dimensonal arrays (m,1).  \n",
    "Each example is stored as a row.  \n"
   ]
  },
  {
   "cell_type": "code",
   "execution_count": null,
   "metadata": {},
   "outputs": [],
   "source": [
    "data_n=data.values # extract only the values of the two columns from the dataFrame data\n",
    "X= ?\n",
    "y= ?\n",
    "\n",
    "\n",
    "#Run featureNormalization to normalize X, store the means and stds.\n",
    "X, mean_X, std_X = ?\n",
    "\n",
    "\n",
    "#To take into account the intercept term theta_0 you need to add an additional first column to X and \n",
    "#set it to all ones (np.ones). #This allows to treat theta_0 as simply another ‘feature parameter’. \n",
    "\n",
    "X=np.append(?,?) \n",
    "\n",
    "#Initialize the fitting parameters theta to 0 (np.zeros)\n",
    "\n",
    "theta_init=\n",
    "\n",
    "#You should see a cost of about  65591548106.46\n",
    "\n",
    "computeCost(X,y,theta_init)"
   ]
  },
  {
   "cell_type": "markdown",
   "metadata": {},
   "source": [
    "### Gradient Descent\n",
    "\n",
    "Minimize the cost function $J(\\theta)$ by updating Equation        \n",
    "$\\theta_j := \\theta_j - \\alpha \\frac{1}{m} \\sum_{i=1}^m (h_{\\theta}(x^{(i)}) - y^{(i)})x_j^{(i)}$ (simultaneously update $\\theta_j$ for all $j$) and repeat unitil convergence. \n",
    "\n",
    "\n",
    "Implement gradient descent in the function **gradientDescent**. The loop structure is written, you need to supply the updates to $\\theta$  within each iteration.  "
   ]
  },
  {
   "cell_type": "code",
   "execution_count": null,
   "metadata": {},
   "outputs": [],
   "source": [
    "def gradientDescent(X,y,theta,alpha,num_iters):\n",
    "    \"\"\"\n",
    "    Take numpy arrays X, y and theta and update theta by taking num_iters gradient steps with learning rate alpha\n",
    "    \n",
    "     Return: theta and the list of the cost of theta (J_history) during each iteration\n",
    "    \"\"\"\n",
    "    \n",
    "    #number of training examples\n",
    "    m= ?\n",
    "    J_history=[]\n",
    "    \n",
    "    for i in range(num_iters):\n",
    "        \n",
    "        # model\n",
    "        h = ?\n",
    "        \n",
    "        #Vectorized way to compute all gradients simultaneously \n",
    "        grad = np.dot(X.transpose(),(h-y)) \n",
    "        \n",
    "        #update \n",
    "        theta= ?\n",
    "        \n",
    "        J_history.append(computeCost(X,y,theta))\n",
    "    \n",
    "    return theta, J_history"
   ]
  },
  {
   "cell_type": "markdown",
   "metadata": {},
   "source": [
    "Apply gradientDescent with learning rate 0.1 and 400 iterations."
   ]
  },
  {
   "cell_type": "code",
   "execution_count": null,
   "metadata": {},
   "outputs": [],
   "source": [
    "theta, J_history = gradientDescent(?,?,?,?,?)\n",
    "print(\"h(x) =\"+str(round(theta[0,0],2))+\" + \"+str(round(theta[1,0],2))+\"x1 + \"+str(round(theta[2,0],2))+\"x2\")"
   ]
  },
  {
   "cell_type": "markdown",
   "metadata": {},
   "source": [
    "### Testing the implementation\n",
    "\n",
    "A good way to verify that gradient descent is working correctly is to plot $J(\\theta)$ against the number of iteration. Function **gradientDescent** calls function **computeCost** on every iteration and saves the costs over the iterations. If the algorithm works properly, $J(\\theta)$ should never increase, and should converge to a steady value. \n",
    "\n",
    "<img src=\"images/f4.png\" style=\"width:350px;height:250px;\">\n",
    "<caption><center> Fig. 2 Cost function for different learning rates </center></caption>\n",
    "\n",
    "If the learning rate is too small (e.g. 0.001), the gradient descent takes a very long time to converge to the optimal value. \n",
    "\n",
    "If the learning rate is too large (e.g. 1.4), $J(\\theta)$ can diverge and \"blow up\", resulting in values which are too large for computer calculations. In these situations, Python will return nan (not a number). This is often caused by undefined operations that involve +/- infinity.\n",
    "\n",
    "Apply **gradientDescent** with different learning rates (e.g. alpha=[0.001, 0.01, 0.1, 0.3 1.4] ) and 400 iterations.\n",
    "\n",
    "Plot the gradient history and get a curve similar to Fig.2. \n",
    "\n"
   ]
  },
  {
   "cell_type": "code",
   "execution_count": null,
   "metadata": {},
   "outputs": [],
   "source": [
    "\n",
    "alpha= ?\n",
    "\n",
    "for i in alpha:\n",
    "    theta_init=np.zeros((n+1,1))\n",
    "    theta, J_history = gradientDescent(?,?,?,?,?)\n",
    "     plt.plot(?)\n"
   ]
  },
  {
   "cell_type": "markdown",
   "metadata": {},
   "source": [
    "### Make predictions  using the optimized $\\theta$ values\n",
    "\n",
    "Complete function **predict** to compute model predictions: $h_\\theta(x) = \\theta^Tx$. Apply vectorized computations with np.dot(). "
   ]
  },
  {
   "cell_type": "code",
   "execution_count": null,
   "metadata": {},
   "outputs": [],
   "source": [
    "def predict(x,theta):\n",
    "    \"\"\"\n",
    "    Takes in numpy array of x and theta and return the predicted value of y based on theta\n",
    "    \"\"\"\n",
    "    \n",
    "    # model\n",
    "    h = ?\n",
    "    \n",
    "    return h"
   ]
  },
  {
   "cell_type": "markdown",
   "metadata": {},
   "source": [
    "Using the best learning rate you found, run gradient descent until convergence to find the optimal $\\theta$ values.\n",
    "\n",
    "Predict the price of a house with 1650 square feet and 3 bedrooms (use function predict you have implemented in Part 1). \n",
    "\n",
    "Don't forget to normalize the features, before making this prediction!\n",
    "\n",
    "Answer: the price is about $293080.0\n"
   ]
  },
  {
   "cell_type": "code",
   "execution_count": null,
   "metadata": {},
   "outputs": [],
   "source": [
    "x_sample =?\n",
    "#feature normalisation of x_sample\n",
    "x_sample= ?\n",
    "#add 1\n",
    "x_sample=\n",
    "\n",
    "predict3=predict(?,?)\n",
    "print(\"For house size = 1650, # of bedroom = 3, we predict a house value of $\"+str(round(predict3,0)))"
   ]
  },
  {
   "cell_type": "code",
   "execution_count": null,
   "metadata": {},
   "outputs": [],
   "source": []
  }
 ],
 "metadata": {
  "kernelspec": {
   "display_name": "Python 3.9.12",
   "language": "python",
   "name": "python3"
  },
  "language_info": {
   "codemirror_mode": {
    "name": "ipython",
    "version": 3
   },
   "file_extension": ".py",
   "mimetype": "text/x-python",
   "name": "python",
   "nbconvert_exporter": "python",
   "pygments_lexer": "ipython3",
   "version": "3.9.12"
  },
  "vscode": {
   "interpreter": {
    "hash": "38cca0c38332a56087b24af0bc80247f4fced29cb4f7f437d91dc159adec9c4e"
   }
  }
 },
 "nbformat": 4,
 "nbformat_minor": 2
}
